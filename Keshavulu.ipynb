{
  "nbformat": 4,
  "nbformat_minor": 0,
  "metadata": {
    "colab": {
      "provenance": []
    },
    "kernelspec": {
      "name": "python3",
      "display_name": "Python 3"
    },
    "language_info": {
      "name": "python"
    }
  },
  "cells": [
    {
      "cell_type": "code",
      "execution_count": null,
      "metadata": {
        "id": "yC2NAfujRRO0"
      },
      "outputs": [],
      "source": [
        "import numpy as np\n",
        "import pandas as pd\n",
        "import sklearn\n",
        "\n",
        "from sklearn.datasets import load_boston\n",
        "df=load_boston()\n",
        "df.keys()\n",
        "dict_keys=(['data','target','feature_names','DESCR','filename'])\n",
        "print(df.filename)\n",
        "print(df.target)\n",
        "print(df.data)\n",
        "boston=pd.DataFrame(df.data, colomns=df.feature_names)\n",
        "boston.head()\n",
        "boston['MEDV']=df.target\n",
        "boston.head()\n",
        "boston.isnull()\n",
        "boston.isnull.sum()\n",
        "from sklearn.model_selection import train_test_split\n",
        "X=boston.drop('MEDV',axis=1)\n",
        "Y=boston['MEDV']\n",
        "\n",
        "X_train,X_test,Y_train,Y_test=train_test_split(X,Y, test_size=0.15,random_states=4)\n",
        "\n",
        "print(X_train.shape)\n",
        "print(X_test.shape)\n",
        "print(Y_train.shape)\n",
        "print(Y_test.shape)\n",
        "\n",
        "from sklearn.linear_model import LinearRegression\n",
        "from sklearn.metrics import mean_squared_error\n",
        "\n",
        "X=boston.drop('MEDV',axis=1)\n",
        "\n",
        "X_train, X_test, Y_train, Y_test=train_test_split(X,Y, test_size=0.15,random_states=4)\n",
        "\n",
        "lin_model= LinearRegression()\n",
        "lin_model.fit(X_train,Y_train)\n",
        "\n",
        "Y_train_predict=lin_model.predict(X_train)\n",
        "rnse=(np.sqrt(mean_squarred_error(Y_train,Y_train_predict)))\n",
        "\n",
        "print(\"The model performance for training set\")\n",
        "print('RNSE is {}'.format(rnse))\n",
        "\n",
        "\n",
        "Y_test_predict=lin_model.predict(X_test)\n",
        "rnse=(np.sqrt(mean_squarred_error(Y_test,Y_test_predict)))\n",
        "\n",
        "print(\"the model performence for testing set\")\n",
        "print('RNSE is {}'.format(rnse))"
      ]
    }
  ]
}